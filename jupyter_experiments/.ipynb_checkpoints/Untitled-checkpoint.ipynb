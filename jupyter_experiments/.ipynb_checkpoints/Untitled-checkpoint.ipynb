{
 "cells": [
  {
   "cell_type": "code",
   "execution_count": 1,
   "id": "7c081d25",
   "metadata": {},
   "outputs": [],
   "source": [
    "import numpy as np\n",
    "import matplotlib.pyplot as plt\n",
    "import matplotlib.animation as animation\n",
    "import argparse"
   ]
  },
  {
   "cell_type": "code",
   "execution_count": 2,
   "id": "80df91e7",
   "metadata": {},
   "outputs": [],
   "source": [
    "# Universe size - 100 x 100\n",
    "# no of universe iterations - 50\n",
    "# interval - 300 ms\n",
    "# seed - seed for life\n",
    "# seed positon - x , y"
   ]
  },
  {
   "cell_type": "code",
   "execution_count": 3,
   "id": "aa381b92",
   "metadata": {},
   "outputs": [],
   "source": [
    "infinite_seed = [\n",
    "    [1, 1, 1, 0, 1],\n",
    "    [1, 0, 0, 0, 0],\n",
    "    [0, 0, 0, 1, 1],\n",
    "    [0, 1, 1, 0, 1],\n",
    "    [1, 0, 1, 0, 1],\n",
    "]"
   ]
  },
  {
   "cell_type": "code",
   "execution_count": 6,
   "id": "b353f80f",
   "metadata": {},
   "outputs": [],
   "source": [
    "def life_cycle(universe_size=(100,100), seed=infinite_seed, seed_pos=(40, 40), n_generations=10, interval=300):\n",
    "    # making the visual universe\n",
    "    universe = np.zeros(universe_size)\n",
    "    x_start, y_start = seed_pos[0], seed_pos[1]\n",
    "    seed_array = np.array(seed)\n",
    "    x_end, y_end = x_start + seed_array.shape[0], y_start + seed_array.shape[1]\n",
    "    # putting the life seed in the universe\n",
    "    universe[x_start:x_end, y_start:y_end] = seed_array\n",
    "    \n",
    "    # Life loop\n",
    "    fig = plt.figure(dpi=200)\n",
    "    plt.axis(\"off\")\n",
    "    ims = []\n",
    "    for i in range(n_generations):\n",
    "        ims.append((plt.imshow(universe),))\n",
    "        universe = generation(universe)\n",
    "\n",
    "def generation(universe):\n",
    "    nw_univ = np.copy(universe)\n",
    "    # apply the survival function to every cell in the universe\n",
    "    for i in range(universe.shape[0]):\n",
    "        for j in range(universe.shape[1]):\n",
    "            nw_univ[i, j] = survival(i, j, universe)\n",
    "    return nw_univ\n",
    "\n",
    "# The GOL's rule of life\n",
    "def survival(x, y, universe):\n",
    "    num_neighbours = np.sum(universe[x - 1: x + 2, y - 1 : y + 2]) - universe[x, y]\n",
    "    # All live cells with no 2 or 3 neighbours die in the next gen\n",
    "    if universe[x, y] and not 2 <= num_neighbours <= 3:\n",
    "        return 0\n",
    "    # Dead cell with 3 neighbours comes to life\n",
    "    elif num_neighbours == 3:\n",
    "        return 1\n",
    "    # Living cell with 2 or 3 live neighbours survives\n",
    "    return universe[x, y]"
   ]
  },
  {
   "cell_type": "code",
   "execution_count": 7,
   "id": "4381f359",
   "metadata": {},
   "outputs": [
    {
     "data": {
      "text/plain": [
       "<matplotlib.animation.ArtistAnimation at 0x202fdd57220>"
      ]
     },
     "execution_count": 7,
     "metadata": {},
     "output_type": "execute_result"
    },
    {
     "data": {
      "image/png": "[encoded data removed]",
      "text/plain": [
       "<Figure size 1200x800 with 1 Axes>"
      ]
     },
     "metadata": {
      "needs_background": "light"
     },
     "output_type": "display_data"
    }
   ],
   "source": [
    "life_cycle()"
   ]
  },
  {
   "cell_type": "code",
   "execution_count": null,
   "id": "88a83730",
   "metadata": {},
   "outputs": [],
   "source": []
  },
  {
   "cell_type": "code",
   "execution_count": null,
   "id": "3f5eee62",
   "metadata": {},
   "outputs": [],
   "source": []
  },
  {
   "cell_type": "code",
   "execution_count": null,
   "id": "ee9d43dd",
   "metadata": {},
   "outputs": [],
   "source": []
  },
  {
   "cell_type": "code",
   "execution_count": null,
   "id": "402d3162",
   "metadata": {},
   "outputs": [],
   "source": []
  }
 ],
 "metadata": {
  "kernelspec": {
   "display_name": "Python 3 (ipykernel)",
   "language": "python",
   "name": "python3"
  },
  "language_info": {
   "codemirror_mode": {
    "name": "ipython",
    "version": 3
   },
   "file_extension": ".py",
   "mimetype": "text/x-python",
   "name": "python",
   "nbconvert_exporter": "python",
   "pygments_lexer": "ipython3",
   "version": "3.9.5"
  }
 },
 "nbformat": 4,
 "nbformat_minor": 5
}
